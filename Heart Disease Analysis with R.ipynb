{
 "cells": [
  {
   "cell_type": "markdown",
   "id": "8c727af9",
   "metadata": {},
   "source": [
    "Load library"
   ]
  },
  {
   "cell_type": "code",
   "execution_count": 1,
   "id": "f7698502",
   "metadata": {
    "scrolled": true
   },
   "outputs": [
    {
     "name": "stderr",
     "output_type": "stream",
     "text": [
      "Registered S3 method overwritten by 'rvest':\n",
      "  method            from\n",
      "  read_xml.response xml2\n",
      "-- Attaching packages --------------------------------------- tidyverse 1.2.1 --\n",
      "v ggplot2 3.3.5       v purrr   0.3.2  \n",
      "v tibble  2.1.1       v dplyr   0.8.0.1\n",
      "v tidyr   0.8.3       v stringr 1.4.0  \n",
      "v readr   1.3.1       v forcats 0.4.0  \n",
      "-- Conflicts ------------------------------------------ tidyverse_conflicts() --\n",
      "x dplyr::filter() masks stats::filter()\n",
      "x dplyr::lag()    masks stats::lag()\n"
     ]
    }
   ],
   "source": [
    "library(tidyverse)"
   ]
  },
  {
   "cell_type": "markdown",
   "id": "22a81440",
   "metadata": {},
   "source": [
    "Read a csv file"
   ]
  },
  {
   "cell_type": "code",
   "execution_count": 2,
   "id": "a8c2cbb1",
   "metadata": {},
   "outputs": [],
   "source": [
    "data <- read.csv(\"heart.csv\")"
   ]
  },
  {
   "cell_type": "markdown",
   "id": "ff1d78eb",
   "metadata": {},
   "source": [
    "View the first few lines of data"
   ]
  },
  {
   "cell_type": "code",
   "execution_count": 3,
   "id": "00628c13",
   "metadata": {},
   "outputs": [
    {
     "data": {
      "text/html": [
       "<table>\n",
       "<thead><tr><th scope=col>ï..age</th><th scope=col>sex</th><th scope=col>cp</th><th scope=col>trestbps</th><th scope=col>chol</th><th scope=col>fbs</th><th scope=col>restecg</th><th scope=col>thalach</th><th scope=col>exang</th><th scope=col>oldpeak</th><th scope=col>slope</th><th scope=col>ca</th><th scope=col>thal</th><th scope=col>target</th></tr></thead>\n",
       "<tbody>\n",
       "\t<tr><td>63 </td><td>1  </td><td>3  </td><td>145</td><td>233</td><td>1  </td><td>0  </td><td>150</td><td>0  </td><td>2.3</td><td>0  </td><td>0  </td><td>1  </td><td>1  </td></tr>\n",
       "\t<tr><td>37 </td><td>1  </td><td>2  </td><td>130</td><td>250</td><td>0  </td><td>1  </td><td>187</td><td>0  </td><td>3.5</td><td>0  </td><td>0  </td><td>2  </td><td>1  </td></tr>\n",
       "\t<tr><td>41 </td><td>0  </td><td>1  </td><td>130</td><td>204</td><td>0  </td><td>0  </td><td>172</td><td>0  </td><td>1.4</td><td>2  </td><td>0  </td><td>2  </td><td>1  </td></tr>\n",
       "\t<tr><td>56 </td><td>1  </td><td>1  </td><td>120</td><td>236</td><td>0  </td><td>1  </td><td>178</td><td>0  </td><td>0.8</td><td>2  </td><td>0  </td><td>2  </td><td>1  </td></tr>\n",
       "\t<tr><td>57 </td><td>0  </td><td>0  </td><td>120</td><td>354</td><td>0  </td><td>1  </td><td>163</td><td>1  </td><td>0.6</td><td>2  </td><td>0  </td><td>2  </td><td>1  </td></tr>\n",
       "\t<tr><td>57 </td><td>1  </td><td>0  </td><td>140</td><td>192</td><td>0  </td><td>1  </td><td>148</td><td>0  </td><td>0.4</td><td>1  </td><td>0  </td><td>1  </td><td>1  </td></tr>\n",
       "</tbody>\n",
       "</table>\n"
      ],
      "text/latex": [
       "\\begin{tabular}{r|llllllllllllll}\n",
       " ï..age & sex & cp & trestbps & chol & fbs & restecg & thalach & exang & oldpeak & slope & ca & thal & target\\\\\n",
       "\\hline\n",
       "\t 63  & 1   & 3   & 145 & 233 & 1   & 0   & 150 & 0   & 2.3 & 0   & 0   & 1   & 1  \\\\\n",
       "\t 37  & 1   & 2   & 130 & 250 & 0   & 1   & 187 & 0   & 3.5 & 0   & 0   & 2   & 1  \\\\\n",
       "\t 41  & 0   & 1   & 130 & 204 & 0   & 0   & 172 & 0   & 1.4 & 2   & 0   & 2   & 1  \\\\\n",
       "\t 56  & 1   & 1   & 120 & 236 & 0   & 1   & 178 & 0   & 0.8 & 2   & 0   & 2   & 1  \\\\\n",
       "\t 57  & 0   & 0   & 120 & 354 & 0   & 1   & 163 & 1   & 0.6 & 2   & 0   & 2   & 1  \\\\\n",
       "\t 57  & 1   & 0   & 140 & 192 & 0   & 1   & 148 & 0   & 0.4 & 1   & 0   & 1   & 1  \\\\\n",
       "\\end{tabular}\n"
      ],
      "text/markdown": [
       "\n",
       "| ï..age | sex | cp | trestbps | chol | fbs | restecg | thalach | exang | oldpeak | slope | ca | thal | target |\n",
       "|---|---|---|---|---|---|---|---|---|---|---|---|---|---|\n",
       "| 63  | 1   | 3   | 145 | 233 | 1   | 0   | 150 | 0   | 2.3 | 0   | 0   | 1   | 1   |\n",
       "| 37  | 1   | 2   | 130 | 250 | 0   | 1   | 187 | 0   | 3.5 | 0   | 0   | 2   | 1   |\n",
       "| 41  | 0   | 1   | 130 | 204 | 0   | 0   | 172 | 0   | 1.4 | 2   | 0   | 2   | 1   |\n",
       "| 56  | 1   | 1   | 120 | 236 | 0   | 1   | 178 | 0   | 0.8 | 2   | 0   | 2   | 1   |\n",
       "| 57  | 0   | 0   | 120 | 354 | 0   | 1   | 163 | 1   | 0.6 | 2   | 0   | 2   | 1   |\n",
       "| 57  | 1   | 0   | 140 | 192 | 0   | 1   | 148 | 0   | 0.4 | 1   | 0   | 1   | 1   |\n",
       "\n"
      ],
      "text/plain": [
       "  ï..age sex cp trestbps chol fbs restecg thalach exang oldpeak slope ca thal\n",
       "1 63     1   3  145      233  1   0       150     0     2.3     0     0  1   \n",
       "2 37     1   2  130      250  0   1       187     0     3.5     0     0  2   \n",
       "3 41     0   1  130      204  0   0       172     0     1.4     2     0  2   \n",
       "4 56     1   1  120      236  0   1       178     0     0.8     2     0  2   \n",
       "5 57     0   0  120      354  0   1       163     1     0.6     2     0  2   \n",
       "6 57     1   0  140      192  0   1       148     0     0.4     1     0  1   \n",
       "  target\n",
       "1 1     \n",
       "2 1     \n",
       "3 1     \n",
       "4 1     \n",
       "5 1     \n",
       "6 1     "
      ]
     },
     "metadata": {},
     "output_type": "display_data"
    }
   ],
   "source": [
    "head(data)"
   ]
  },
  {
   "cell_type": "markdown",
   "id": "ed008296",
   "metadata": {},
   "source": [
    "View the last few lines of data"
   ]
  },
  {
   "cell_type": "code",
   "execution_count": 4,
   "id": "52b21994",
   "metadata": {},
   "outputs": [
    {
     "data": {
      "text/html": [
       "<table>\n",
       "<thead><tr><th></th><th scope=col>ï..age</th><th scope=col>sex</th><th scope=col>cp</th><th scope=col>trestbps</th><th scope=col>chol</th><th scope=col>fbs</th><th scope=col>restecg</th><th scope=col>thalach</th><th scope=col>exang</th><th scope=col>oldpeak</th><th scope=col>slope</th><th scope=col>ca</th><th scope=col>thal</th><th scope=col>target</th></tr></thead>\n",
       "<tbody>\n",
       "\t<tr><th scope=row>298</th><td>59 </td><td>1  </td><td>0  </td><td>164</td><td>176</td><td>1  </td><td>0  </td><td> 90</td><td>0  </td><td>1.0</td><td>1  </td><td>2  </td><td>1  </td><td>0  </td></tr>\n",
       "\t<tr><th scope=row>299</th><td>57 </td><td>0  </td><td>0  </td><td>140</td><td>241</td><td>0  </td><td>1  </td><td>123</td><td>1  </td><td>0.2</td><td>1  </td><td>0  </td><td>3  </td><td>0  </td></tr>\n",
       "\t<tr><th scope=row>300</th><td>45 </td><td>1  </td><td>3  </td><td>110</td><td>264</td><td>0  </td><td>1  </td><td>132</td><td>0  </td><td>1.2</td><td>1  </td><td>0  </td><td>3  </td><td>0  </td></tr>\n",
       "\t<tr><th scope=row>301</th><td>68 </td><td>1  </td><td>0  </td><td>144</td><td>193</td><td>1  </td><td>1  </td><td>141</td><td>0  </td><td>3.4</td><td>1  </td><td>2  </td><td>3  </td><td>0  </td></tr>\n",
       "\t<tr><th scope=row>302</th><td>57 </td><td>1  </td><td>0  </td><td>130</td><td>131</td><td>0  </td><td>1  </td><td>115</td><td>1  </td><td>1.2</td><td>1  </td><td>1  </td><td>3  </td><td>0  </td></tr>\n",
       "\t<tr><th scope=row>303</th><td>57 </td><td>0  </td><td>1  </td><td>130</td><td>236</td><td>0  </td><td>0  </td><td>174</td><td>0  </td><td>0.0</td><td>1  </td><td>1  </td><td>2  </td><td>0  </td></tr>\n",
       "</tbody>\n",
       "</table>\n"
      ],
      "text/latex": [
       "\\begin{tabular}{r|llllllllllllll}\n",
       "  & ï..age & sex & cp & trestbps & chol & fbs & restecg & thalach & exang & oldpeak & slope & ca & thal & target\\\\\n",
       "\\hline\n",
       "\t298 & 59  & 1   & 0   & 164 & 176 & 1   & 0   &  90 & 0   & 1.0 & 1   & 2   & 1   & 0  \\\\\n",
       "\t299 & 57  & 0   & 0   & 140 & 241 & 0   & 1   & 123 & 1   & 0.2 & 1   & 0   & 3   & 0  \\\\\n",
       "\t300 & 45  & 1   & 3   & 110 & 264 & 0   & 1   & 132 & 0   & 1.2 & 1   & 0   & 3   & 0  \\\\\n",
       "\t301 & 68  & 1   & 0   & 144 & 193 & 1   & 1   & 141 & 0   & 3.4 & 1   & 2   & 3   & 0  \\\\\n",
       "\t302 & 57  & 1   & 0   & 130 & 131 & 0   & 1   & 115 & 1   & 1.2 & 1   & 1   & 3   & 0  \\\\\n",
       "\t303 & 57  & 0   & 1   & 130 & 236 & 0   & 0   & 174 & 0   & 0.0 & 1   & 1   & 2   & 0  \\\\\n",
       "\\end{tabular}\n"
      ],
      "text/markdown": [
       "\n",
       "| <!--/--> | ï..age | sex | cp | trestbps | chol | fbs | restecg | thalach | exang | oldpeak | slope | ca | thal | target |\n",
       "|---|---|---|---|---|---|---|---|---|---|---|---|---|---|---|\n",
       "| 298 | 59  | 1   | 0   | 164 | 176 | 1   | 0   |  90 | 0   | 1.0 | 1   | 2   | 1   | 0   |\n",
       "| 299 | 57  | 0   | 0   | 140 | 241 | 0   | 1   | 123 | 1   | 0.2 | 1   | 0   | 3   | 0   |\n",
       "| 300 | 45  | 1   | 3   | 110 | 264 | 0   | 1   | 132 | 0   | 1.2 | 1   | 0   | 3   | 0   |\n",
       "| 301 | 68  | 1   | 0   | 144 | 193 | 1   | 1   | 141 | 0   | 3.4 | 1   | 2   | 3   | 0   |\n",
       "| 302 | 57  | 1   | 0   | 130 | 131 | 0   | 1   | 115 | 1   | 1.2 | 1   | 1   | 3   | 0   |\n",
       "| 303 | 57  | 0   | 1   | 130 | 236 | 0   | 0   | 174 | 0   | 0.0 | 1   | 1   | 2   | 0   |\n",
       "\n"
      ],
      "text/plain": [
       "    ï..age sex cp trestbps chol fbs restecg thalach exang oldpeak slope ca thal\n",
       "298 59     1   0  164      176  1   0        90     0     1.0     1     2  1   \n",
       "299 57     0   0  140      241  0   1       123     1     0.2     1     0  3   \n",
       "300 45     1   3  110      264  0   1       132     0     1.2     1     0  3   \n",
       "301 68     1   0  144      193  1   1       141     0     3.4     1     2  3   \n",
       "302 57     1   0  130      131  0   1       115     1     1.2     1     1  3   \n",
       "303 57     0   1  130      236  0   0       174     0     0.0     1     1  2   \n",
       "    target\n",
       "298 0     \n",
       "299 0     \n",
       "300 0     \n",
       "301 0     \n",
       "302 0     \n",
       "303 0     "
      ]
     },
     "metadata": {},
     "output_type": "display_data"
    }
   ],
   "source": [
    "tail(data)"
   ]
  },
  {
   "cell_type": "markdown",
   "id": "e73d9e87",
   "metadata": {},
   "source": [
    "Attribute Information:\n",
    "\n",
    "        age\n",
    "        sex\n",
    "        chest pain type (4 values)\n",
    "        resting blood pressure\n",
    "        serum cholestoral in mg/dl\n",
    "        fasting blood sugar > 120 mg/dl\n",
    "        resting electrocardiographic results (values 0,1,2)\n",
    "        maximum heart rate achieved\n",
    "        exercise induced angina\n",
    "        oldpeak = ST depression induced by exercise relative to rest\n",
    "        the slope of the peak exercise ST segment\n",
    "        number of major vessels (0-3) colored by flourosopy\n",
    "        thal: 3 = normal; 6 = fixed defect; 7 = reversable defect"
   ]
  },
  {
   "cell_type": "markdown",
   "id": "327e51ab",
   "metadata": {},
   "source": [
    "Get a summary of the data"
   ]
  },
  {
   "cell_type": "code",
   "execution_count": 5,
   "id": "b24f26d9",
   "metadata": {
    "scrolled": true
   },
   "outputs": [
    {
     "name": "stdout",
     "output_type": "stream",
     "text": [
      "Observations: 303\n",
      "Variables: 14\n",
      "$ ï..age   <int> 63, 37, 41, 56, 57, 57, 56, 44, 52, 57, 54, 48, 49, 64, 58...\n",
      "$ sex      <int> 1, 1, 0, 1, 0, 1, 0, 1, 1, 1, 1, 0, 1, 1, 0, 0, 0, 0, 1, 0...\n",
      "$ cp       <int> 3, 2, 1, 1, 0, 0, 1, 1, 2, 2, 0, 2, 1, 3, 3, 2, 2, 3, 0, 3...\n",
      "$ trestbps <int> 145, 130, 130, 120, 120, 140, 140, 120, 172, 150, 140, 130...\n",
      "$ chol     <int> 233, 250, 204, 236, 354, 192, 294, 263, 199, 168, 239, 275...\n",
      "$ fbs      <int> 1, 0, 0, 0, 0, 0, 0, 0, 1, 0, 0, 0, 0, 0, 1, 0, 0, 0, 0, 0...\n",
      "$ restecg  <int> 0, 1, 0, 1, 1, 1, 0, 1, 1, 1, 1, 1, 1, 0, 0, 1, 1, 1, 1, 1...\n",
      "$ thalach  <int> 150, 187, 172, 178, 163, 148, 153, 173, 162, 174, 160, 139...\n",
      "$ exang    <int> 0, 0, 0, 0, 1, 0, 0, 0, 0, 0, 0, 0, 0, 1, 0, 0, 0, 0, 0, 0...\n",
      "$ oldpeak  <dbl> 2.3, 3.5, 1.4, 0.8, 0.6, 0.4, 1.3, 0.0, 0.5, 1.6, 1.2, 0.2...\n",
      "$ slope    <int> 0, 0, 2, 2, 2, 1, 1, 2, 2, 2, 2, 2, 2, 1, 2, 1, 2, 0, 2, 2...\n",
      "$ ca       <int> 0, 0, 0, 0, 0, 0, 0, 0, 0, 0, 0, 0, 0, 0, 0, 0, 0, 0, 0, 2...\n",
      "$ thal     <int> 1, 2, 2, 2, 2, 1, 2, 3, 3, 2, 2, 2, 2, 2, 2, 2, 2, 2, 2, 2...\n",
      "$ target   <int> 1, 1, 1, 1, 1, 1, 1, 1, 1, 1, 1, 1, 1, 1, 1, 1, 1, 1, 1, 1...\n"
     ]
    }
   ],
   "source": [
    "glimpse(data)"
   ]
  },
  {
   "cell_type": "markdown",
   "id": "9112a71f",
   "metadata": {},
   "source": [
    "Get statistical summary of your data\n",
    "\n",
    "Gives the values of a boxplot. Min, Max, 1st quartile, 2nd quartile, Mean, Median."
   ]
  },
  {
   "cell_type": "code",
   "execution_count": 6,
   "id": "38bc4eb6",
   "metadata": {},
   "outputs": [
    {
     "data": {
      "text/plain": [
       "     ï..age           sex               cp           trestbps    \n",
       " Min.   :29.00   Min.   :0.0000   Min.   :0.000   Min.   : 94.0  \n",
       " 1st Qu.:47.50   1st Qu.:0.0000   1st Qu.:0.000   1st Qu.:120.0  \n",
       " Median :55.00   Median :1.0000   Median :1.000   Median :130.0  \n",
       " Mean   :54.37   Mean   :0.6832   Mean   :0.967   Mean   :131.6  \n",
       " 3rd Qu.:61.00   3rd Qu.:1.0000   3rd Qu.:2.000   3rd Qu.:140.0  \n",
       " Max.   :77.00   Max.   :1.0000   Max.   :3.000   Max.   :200.0  \n",
       "      chol            fbs            restecg          thalach     \n",
       " Min.   :126.0   Min.   :0.0000   Min.   :0.0000   Min.   : 71.0  \n",
       " 1st Qu.:211.0   1st Qu.:0.0000   1st Qu.:0.0000   1st Qu.:133.5  \n",
       " Median :240.0   Median :0.0000   Median :1.0000   Median :153.0  \n",
       " Mean   :246.3   Mean   :0.1485   Mean   :0.5281   Mean   :149.6  \n",
       " 3rd Qu.:274.5   3rd Qu.:0.0000   3rd Qu.:1.0000   3rd Qu.:166.0  \n",
       " Max.   :564.0   Max.   :1.0000   Max.   :2.0000   Max.   :202.0  \n",
       "     exang           oldpeak         slope             ca        \n",
       " Min.   :0.0000   Min.   :0.00   Min.   :0.000   Min.   :0.0000  \n",
       " 1st Qu.:0.0000   1st Qu.:0.00   1st Qu.:1.000   1st Qu.:0.0000  \n",
       " Median :0.0000   Median :0.80   Median :1.000   Median :0.0000  \n",
       " Mean   :0.3267   Mean   :1.04   Mean   :1.399   Mean   :0.7294  \n",
       " 3rd Qu.:1.0000   3rd Qu.:1.60   3rd Qu.:2.000   3rd Qu.:1.0000  \n",
       " Max.   :1.0000   Max.   :6.20   Max.   :2.000   Max.   :4.0000  \n",
       "      thal           target      \n",
       " Min.   :0.000   Min.   :0.0000  \n",
       " 1st Qu.:2.000   1st Qu.:0.0000  \n",
       " Median :2.000   Median :1.0000  \n",
       " Mean   :2.314   Mean   :0.5446  \n",
       " 3rd Qu.:3.000   3rd Qu.:1.0000  \n",
       " Max.   :3.000   Max.   :1.0000  "
      ]
     },
     "metadata": {},
     "output_type": "display_data"
    }
   ],
   "source": [
    "summary(data)"
   ]
  },
  {
   "cell_type": "markdown",
   "id": "ee49fadb",
   "metadata": {},
   "source": [
    "Get number of rows and columns"
   ]
  },
  {
   "cell_type": "code",
   "execution_count": 7,
   "id": "c4b64404",
   "metadata": {},
   "outputs": [
    {
     "data": {
      "text/html": [
       "303"
      ],
      "text/latex": [
       "303"
      ],
      "text/markdown": [
       "303"
      ],
      "text/plain": [
       "[1] 303"
      ]
     },
     "metadata": {},
     "output_type": "display_data"
    }
   ],
   "source": [
    "nrow(data)"
   ]
  },
  {
   "cell_type": "code",
   "execution_count": 8,
   "id": "b38c1d10",
   "metadata": {},
   "outputs": [
    {
     "data": {
      "text/html": [
       "14"
      ],
      "text/latex": [
       "14"
      ],
      "text/markdown": [
       "14"
      ],
      "text/plain": [
       "[1] 14"
      ]
     },
     "metadata": {},
     "output_type": "display_data"
    }
   ],
   "source": [
    "ncol(data)"
   ]
  },
  {
   "cell_type": "markdown",
   "id": "6dcfbe90",
   "metadata": {},
   "source": [
    "Get the names of the columns"
   ]
  },
  {
   "cell_type": "code",
   "execution_count": 9,
   "id": "ed4e20ab",
   "metadata": {},
   "outputs": [
    {
     "data": {
      "text/html": [
       "<ol class=list-inline>\n",
       "\t<li>'ï..age'</li>\n",
       "\t<li>'sex'</li>\n",
       "\t<li>'cp'</li>\n",
       "\t<li>'trestbps'</li>\n",
       "\t<li>'chol'</li>\n",
       "\t<li>'fbs'</li>\n",
       "\t<li>'restecg'</li>\n",
       "\t<li>'thalach'</li>\n",
       "\t<li>'exang'</li>\n",
       "\t<li>'oldpeak'</li>\n",
       "\t<li>'slope'</li>\n",
       "\t<li>'ca'</li>\n",
       "\t<li>'thal'</li>\n",
       "\t<li>'target'</li>\n",
       "</ol>\n"
      ],
      "text/latex": [
       "\\begin{enumerate*}\n",
       "\\item 'ï..age'\n",
       "\\item 'sex'\n",
       "\\item 'cp'\n",
       "\\item 'trestbps'\n",
       "\\item 'chol'\n",
       "\\item 'fbs'\n",
       "\\item 'restecg'\n",
       "\\item 'thalach'\n",
       "\\item 'exang'\n",
       "\\item 'oldpeak'\n",
       "\\item 'slope'\n",
       "\\item 'ca'\n",
       "\\item 'thal'\n",
       "\\item 'target'\n",
       "\\end{enumerate*}\n"
      ],
      "text/markdown": [
       "1. 'ï..age'\n",
       "2. 'sex'\n",
       "3. 'cp'\n",
       "4. 'trestbps'\n",
       "5. 'chol'\n",
       "6. 'fbs'\n",
       "7. 'restecg'\n",
       "8. 'thalach'\n",
       "9. 'exang'\n",
       "10. 'oldpeak'\n",
       "11. 'slope'\n",
       "12. 'ca'\n",
       "13. 'thal'\n",
       "14. 'target'\n",
       "\n",
       "\n"
      ],
      "text/plain": [
       " [1] \"ï..age\"   \"sex\"      \"cp\"       \"trestbps\" \"chol\"     \"fbs\"     \n",
       " [7] \"restecg\"  \"thalach\"  \"exang\"    \"oldpeak\"  \"slope\"    \"ca\"      \n",
       "[13] \"thal\"     \"target\"  "
      ]
     },
     "metadata": {},
     "output_type": "display_data"
    }
   ],
   "source": [
    "colnames(data)"
   ]
  },
  {
   "cell_type": "markdown",
   "id": "92168d2e",
   "metadata": {},
   "source": [
    "## Data Transformation\n",
    "\n",
    "`%>%` is called the forward pipe operator in R. It provides a mechanism for chaining commands with a new forward-pipe operator, %>%. This operator will forward a value, or the result of an expression, into the next function call/expression."
   ]
  },
  {
   "cell_type": "code",
   "execution_count": 10,
   "id": "8959c049",
   "metadata": {},
   "outputs": [],
   "source": [
    "data2 <- data %>%\n",
    "    mutate(sex = if_else(sex == 1, \"MALE\", \"FEMALE\"),\n",
    "          fbs = if_else(fbs == 1, \"> 120 mg/dl\", \"<= 120 mg/dl\"),\n",
    "           exang = if_else(exang == 1, \"YES\", \"NO\"),\n",
    "           cp = if_else(cp == 1, \"ATYPICAL ANGINA\",\n",
    "                       if_else(cp == 2, \"NON-ANGINAL PAIN\", \"ASYMPTOMATIC\")),\n",
    "           restecg = if_else(restecg == 0, \"NORMAL\",\n",
    "                            if_else(restecg == 1, \"ABNORMAL\", \"PROBABLE OR DEFINITE\")),\n",
    "           slope = as.factor(slope),#convert the slope column to factor data type\n",
    "           ca = as.factor(ca),\n",
    "           thal = as.factor(thal),\n",
    "           target = if_else(target == 1, \"YES\", \"NO\")\n",
    "          )%>%\n",
    "mutate_if(is.character, as.factor)%>% #turns any column with characters to a factor.\n",
    "dplyr::select(target, sex, fbs, exang, cp, restecg, slope, ca, thal, everything() )# dplyr is used for data manipulation"
   ]
  },
  {
   "cell_type": "markdown",
   "id": "6a5aeb7e",
   "metadata": {},
   "source": [
    "## Data Visualizaton"
   ]
  },
  {
   "cell_type": "markdown",
   "id": "c2b1b93d",
   "metadata": {},
   "source": [
    "Barplot using ggplot\n",
    "\n",
    "`ggplot()`: Create a new ggplot\n",
    "\n",
    "`aes()`: Construct aesthetic mappings,  fill sets the color, x = sets the x_axis varable.\n",
    "\n",
    "`+, (<gg>), %+%` Add components to a plot\n",
    "    \n",
    "Syntax: ggplot(dataframe, aestheticmaping)+Add_components\n",
    "\n",
    "`aes`: Aesthetic mappings describe how variables in the data are mapped to visual properties (aesthetics) of geometric objects. Aesthetic mappings can be set in ggplot() and in individual layers.\n",
    "\n",
    "`scale_fill_discrete`: Formats the scale/legend\n",
    "\n",
    "\n"
   ]
  },
  {
   "cell_type": "code",
   "execution_count": 11,
   "id": "63e6fb11",
   "metadata": {},
   "outputs": [
    {
     "name": "stderr",
     "output_type": "stream",
     "text": [
      "Warning message:\n",
      "\"Use of `data2$target` is discouraged. Use `target` instead.\"Warning message:\n",
      "\"Use of `data2$target` is discouraged. Use `target` instead.\""
     ]
    },
    {
     "data": {
      "image/png": "[encoded data removed]",
      "text/plain": [
       "plot without title"
      ]
     },
     "metadata": {},
     "output_type": "display_data"
    }
   ],
   "source": [
    "# Bar plot for heart disease column\n",
    "\n",
    "ggplot(data2, aes(x = data2$target, fill = data2$target))+geom_bar()+\n",
    "xlab('Heart Disease')+xlab(\"Count\")+ggtitle(\"Presence & Abscence of Heart Disease\")+\n",
    "scale_fill_discrete(name = \"Heart Disease\", labels = c(\"Abscence\", \"Presence\"))"
   ]
  },
  {
   "cell_type": "markdown",
   "id": "2d5dc7c3",
   "metadata": {},
   "source": [
    "Get the proportion of target variable"
   ]
  },
  {
   "cell_type": "code",
   "execution_count": 12,
   "id": "1f839ca8",
   "metadata": {},
   "outputs": [
    {
     "data": {
      "text/plain": [
       "\n",
       "       NO       YES \n",
       "0.4554455 0.5445545 "
      ]
     },
     "metadata": {},
     "output_type": "display_data"
    }
   ],
   "source": [
    "prop.table(table(data2$target))"
   ]
  },
  {
   "cell_type": "markdown",
   "id": "1426b5e8",
   "metadata": {},
   "source": [
    "Count frequency of the values of age"
   ]
  },
  {
   "cell_type": "markdown",
   "id": "37b3602d",
   "metadata": {},
   "source": [
    "`group_by()` takes an existing tbl and converts it into a grouped tbl where operations are performed \"by group\"\n",
    "\n",
    "`count()` counts the occurance of unique values in the data\n",
    "\n",
    "`filter()` used to choose rows/cases where conditions are true. Unlike base subsetting with [, rows where the condition evaluates to NA are dropped. \n",
    "\n",
    "`geom_col`: If you want the heights of the bars to represent values in the data, use geom_col() instead geom_bar().\n",
    "\n",
    "There are two types of bar charts: geom_bar() and geom_col(). geom_bar() makes the height of the bar proportional to the number of cases in each group (or if the weight aesthetic is supplied, the sum of the weights). If you want the heights of the bars to represent values in the data, use geom_col() instead."
   ]
  },
  {
   "cell_type": "code",
   "execution_count": 13,
   "id": "4dba8c81",
   "metadata": {},
   "outputs": [
    {
     "data": {
      "image/png": "[encoded data removed]",
      "text/plain": [
       "plot without title"
      ]
     },
     "metadata": {},
     "output_type": "display_data"
    }
   ],
   "source": [
    "data2 %>%\n",
    "    group_by(ï..age)%>%\n",
    "    count() %>%\n",
    "    filter(n>10) %>%\n",
    "    ggplot()+\n",
    "    geom_col(aes(ï..age, n), fill = \"#3fad28\")+\n",
    "    ggtitle(\"Age Analysis\")+\n",
    "    xlab(\"Age\")+\n",
    "    ylab(\"Count\")"
   ]
  },
  {
   "cell_type": "code",
   "execution_count": 14,
   "id": "949ab364",
   "metadata": {},
   "outputs": [
    {
     "data": {
      "text/html": [
       "<ol class=list-inline>\n",
       "\t<li>'target'</li>\n",
       "\t<li>'sex'</li>\n",
       "\t<li>'fbs'</li>\n",
       "\t<li>'exang'</li>\n",
       "\t<li>'cp'</li>\n",
       "\t<li>'restecg'</li>\n",
       "\t<li>'slope'</li>\n",
       "\t<li>'ca'</li>\n",
       "\t<li>'thal'</li>\n",
       "\t<li>'ï..age'</li>\n",
       "\t<li>'trestbps'</li>\n",
       "\t<li>'chol'</li>\n",
       "\t<li>'thalach'</li>\n",
       "\t<li>'oldpeak'</li>\n",
       "</ol>\n"
      ],
      "text/latex": [
       "\\begin{enumerate*}\n",
       "\\item 'target'\n",
       "\\item 'sex'\n",
       "\\item 'fbs'\n",
       "\\item 'exang'\n",
       "\\item 'cp'\n",
       "\\item 'restecg'\n",
       "\\item 'slope'\n",
       "\\item 'ca'\n",
       "\\item 'thal'\n",
       "\\item 'ï..age'\n",
       "\\item 'trestbps'\n",
       "\\item 'chol'\n",
       "\\item 'thalach'\n",
       "\\item 'oldpeak'\n",
       "\\end{enumerate*}\n"
      ],
      "text/markdown": [
       "1. 'target'\n",
       "2. 'sex'\n",
       "3. 'fbs'\n",
       "4. 'exang'\n",
       "5. 'cp'\n",
       "6. 'restecg'\n",
       "7. 'slope'\n",
       "8. 'ca'\n",
       "9. 'thal'\n",
       "10. 'ï..age'\n",
       "11. 'trestbps'\n",
       "12. 'chol'\n",
       "13. 'thalach'\n",
       "14. 'oldpeak'\n",
       "\n",
       "\n"
      ],
      "text/plain": [
       " [1] \"target\"   \"sex\"      \"fbs\"      \"exang\"    \"cp\"       \"restecg\" \n",
       " [7] \"slope\"    \"ca\"       \"thal\"     \"ï..age\"   \"trestbps\" \"chol\"    \n",
       "[13] \"thalach\"  \"oldpeak\" "
      ]
     },
     "metadata": {},
     "output_type": "display_data"
    }
   ],
   "source": [
    "colnames(data2)"
   ]
  },
  {
   "cell_type": "markdown",
   "id": "d39c2628",
   "metadata": {},
   "source": [
    "Boxplot: compare blod pressure across the chest pain."
   ]
  },
  {
   "cell_type": "markdown",
   "id": "f26c4121",
   "metadata": {},
   "source": [
    "`facet_grid()`: forms a matrix of panels defined by row and column faceting variables. It is most useful when you have two discrete variables, and all combinations of the variables exist in the data."
   ]
  },
  {
   "cell_type": "code",
   "execution_count": 15,
   "id": "36b73cc2",
   "metadata": {},
   "outputs": [
    {
     "data": {
      "image/png": "[encoded data removed]",
      "text/plain": [
       "plot without title"
      ]
     },
     "metadata": {},
     "output_type": "display_data"
    }
   ],
   "source": [
    "data2 %>%\n",
    "    ggplot(aes(x = sex, y= trestbps))+geom_boxplot(fill = '#223e7f')+\n",
    "    xlab(\"sex\")+ylab('BP')+facet_grid(~cp)"
   ]
  },
  {
   "cell_type": "code",
   "execution_count": 16,
   "id": "188edaa4",
   "metadata": {},
   "outputs": [
    {
     "data": {
      "image/png": "[encoded data removed]",
      "text/plain": [
       "plot without title"
      ]
     },
     "metadata": {},
     "output_type": "display_data"
    }
   ],
   "source": [
    "data2 %>%\n",
    "    ggplot(aes(x = sex, y= chol))+geom_boxplot(fill = '#7f6422')+\n",
    "    xlab(\"sex\")+ylab('BP')+facet_grid(~cp)"
   ]
  },
  {
   "cell_type": "markdown",
   "id": "0d22d350",
   "metadata": {},
   "source": [
    "Correlation\n",
    "\n",
    "You have to install corrplot, since it is not an inbuilt package"
   ]
  },
  {
   "cell_type": "markdown",
   "id": "874327e9",
   "metadata": {},
   "source": [
    "install.packages(\"corrplot\")\n",
    "\n",
    "install.packages(\"ggplot2\")"
   ]
  },
  {
   "cell_type": "code",
   "execution_count": 17,
   "id": "d4ec9bf4",
   "metadata": {},
   "outputs": [
    {
     "name": "stderr",
     "output_type": "stream",
     "text": [
      "corrplot 0.92 loaded\n"
     ]
    }
   ],
   "source": [
    "# Load the libraries\n",
    "library(corrplot)\n",
    "library(ggplot2)"
   ]
  },
  {
   "cell_type": "markdown",
   "id": "1af7139a",
   "metadata": {},
   "source": [
    "Generate a correlation matrix of columns number 10 to 14"
   ]
  },
  {
   "cell_type": "code",
   "execution_count": 19,
   "id": "3b66129a",
   "metadata": {},
   "outputs": [
    {
     "data": {
      "text/html": [
       "<table>\n",
       "<thead><tr><th></th><th scope=col>ï..age</th><th scope=col>trestbps</th><th scope=col>chol</th><th scope=col>thalach</th><th scope=col>oldpeak</th></tr></thead>\n",
       "<tbody>\n",
       "\t<tr><th scope=row>ï..age</th><td> 1.0000000  </td><td> 0.27935091 </td><td> 0.213677957</td><td>-0.398521938</td><td> 0.21001257 </td></tr>\n",
       "\t<tr><th scope=row>trestbps</th><td> 0.2793509  </td><td> 1.00000000 </td><td> 0.123174207</td><td>-0.046697728</td><td> 0.19321647 </td></tr>\n",
       "\t<tr><th scope=row>chol</th><td> 0.2136780  </td><td> 0.12317421 </td><td> 1.000000000</td><td>-0.009939839</td><td> 0.05395192 </td></tr>\n",
       "\t<tr><th scope=row>thalach</th><td>-0.3985219  </td><td>-0.04669773 </td><td>-0.009939839</td><td> 1.000000000</td><td>-0.34418695 </td></tr>\n",
       "\t<tr><th scope=row>oldpeak</th><td> 0.2100126  </td><td> 0.19321647 </td><td> 0.053951920</td><td>-0.344186948</td><td> 1.00000000 </td></tr>\n",
       "</tbody>\n",
       "</table>\n"
      ],
      "text/latex": [
       "\\begin{tabular}{r|lllll}\n",
       "  & ï..age & trestbps & chol & thalach & oldpeak\\\\\n",
       "\\hline\n",
       "\tï..age &  1.0000000   &  0.27935091  &  0.213677957 & -0.398521938 &  0.21001257 \\\\\n",
       "\ttrestbps &  0.2793509   &  1.00000000  &  0.123174207 & -0.046697728 &  0.19321647 \\\\\n",
       "\tchol &  0.2136780   &  0.12317421  &  1.000000000 & -0.009939839 &  0.05395192 \\\\\n",
       "\tthalach & -0.3985219   & -0.04669773  & -0.009939839 &  1.000000000 & -0.34418695 \\\\\n",
       "\toldpeak &  0.2100126   &  0.19321647  &  0.053951920 & -0.344186948 &  1.00000000 \\\\\n",
       "\\end{tabular}\n"
      ],
      "text/markdown": [
       "\n",
       "| <!--/--> | ï..age | trestbps | chol | thalach | oldpeak |\n",
       "|---|---|---|---|---|---|\n",
       "| ï..age |  1.0000000   |  0.27935091  |  0.213677957 | -0.398521938 |  0.21001257  |\n",
       "| trestbps |  0.2793509   |  1.00000000  |  0.123174207 | -0.046697728 |  0.19321647  |\n",
       "| chol |  0.2136780   |  0.12317421  |  1.000000000 | -0.009939839 |  0.05395192  |\n",
       "| thalach | -0.3985219   | -0.04669773  | -0.009939839 |  1.000000000 | -0.34418695  |\n",
       "| oldpeak |  0.2100126   |  0.19321647  |  0.053951920 | -0.344186948 |  1.00000000  |\n",
       "\n"
      ],
      "text/plain": [
       "         ï..age     trestbps    chol         thalach      oldpeak    \n",
       "ï..age    1.0000000  0.27935091  0.213677957 -0.398521938  0.21001257\n",
       "trestbps  0.2793509  1.00000000  0.123174207 -0.046697728  0.19321647\n",
       "chol      0.2136780  0.12317421  1.000000000 -0.009939839  0.05395192\n",
       "thalach  -0.3985219 -0.04669773 -0.009939839  1.000000000 -0.34418695\n",
       "oldpeak   0.2100126  0.19321647  0.053951920 -0.344186948  1.00000000"
      ]
     },
     "metadata": {},
     "output_type": "display_data"
    }
   ],
   "source": [
    "cor_heart <- cor(data2[, 10:14])\n",
    "cor_heart"
   ]
  },
  {
   "cell_type": "code",
   "execution_count": 22,
   "id": "91c6bb3b",
   "metadata": {},
   "outputs": [
    {
     "data": {
      "image/png": "[encoded data removed]",
      "text/plain": [
       "Plot with title \"\""
      ]
     },
     "metadata": {},
     "output_type": "display_data"
    }
   ],
   "source": [
    "corrplot(cor_heart, method = 'circle')"
   ]
  },
  {
   "cell_type": "markdown",
   "id": "fb3e970b",
   "metadata": {},
   "source": [
    "Get help"
   ]
  },
  {
   "cell_type": "code",
   "execution_count": 21,
   "id": "71a1942f",
   "metadata": {},
   "outputs": [
    {
     "name": "stderr",
     "output_type": "stream",
     "text": [
      "starting httpd help server ... done\n"
     ]
    }
   ],
   "source": [
    "??method"
   ]
  },
  {
   "cell_type": "code",
   "execution_count": null,
   "id": "62ed43e2",
   "metadata": {},
   "outputs": [],
   "source": []
  }
 ],
 "metadata": {
  "kernelspec": {
   "display_name": "R",
   "language": "R",
   "name": "ir"
  },
  "language_info": {
   "codemirror_mode": "r",
   "file_extension": ".r",
   "mimetype": "text/x-r-source",
   "name": "R",
   "pygments_lexer": "r",
   "version": "3.6.1"
  }
 },
 "nbformat": 4,
 "nbformat_minor": 5
}
